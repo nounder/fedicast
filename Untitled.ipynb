{
 "cells": [
  {
   "cell_type": "code",
   "execution_count": 16,
   "id": "94de1d90-4297-43d3-9fac-ac78fbbc4b1b",
   "metadata": {},
   "outputs": [],
   "source": [
    "import { federation } from \"./federation.ts\"\n",
    "import { lookuObject } from \"@fedify/fedify/vocab\"\n"
   ]
  },
  {
   "cell_type": "code",
   "execution_count": 20,
   "id": "534f1fcb-5d6a-4251-a036-1bf7be1b00e1",
   "metadata": {},
   "outputs": [
    {
     "ename": "ReferenceError",
     "evalue": "lookupObject is not defined",
     "output_type": "error",
     "traceback": [
      "Stack trace:",
      "ReferenceError: lookupObject is not defined",
      "    at <anonymous>:1:22"
     ]
    }
   ],
   "source": []
  },
  {
   "cell_type": "code",
   "execution_count": 10,
   "id": "89a548d6-e62d-4cee-ae2a-f25cd72df4db",
   "metadata": {},
   "outputs": [],
   "source": [
    "const ctx = federation.createContext({ url: \"https://3a01-172-90-234-126.ngrok-free.app/users/me\" })"
   ]
  },
  {
   "cell_type": "code",
   "execution_count": null,
   "id": "e49d00c6-2a21-405b-b3ff-7c5b5e206232",
   "metadata": {},
   "outputs": [],
   "source": [
    "const dstActor = getAc"
   ]
  },
  {
   "cell_type": "code",
   "execution_count": 12,
   "id": "cb57962d-98e5-4486-baa4-9ec57181b16d",
   "metadata": {},
   "outputs": [
    {
     "ename": "ReferenceError",
     "evalue": "recipient is not defined",
     "output_type": "error",
     "traceback": [
      "Stack trace:",
      "ReferenceError: recipient is not defined",
      "    at <anonymous>:3:4"
     ]
    }
   ],
   "source": [
    "await ctx.sendActivity(\n",
    "    { handle: \"@me@3a01-172-90-234-126.ngrok-free.app\" },\n",
    "    recipient,\n",
    "    new Follow({\n",
    "      actor: ctx.getActorUri(\"@me@3a01-172-90-234-126.ngrok-free.app\"),\n",
    "      object: recipient.id,\n",
    "    }),\n",
    "    { immediate: true },\n",
    "  );"
   ]
  },
  {
   "cell_type": "code",
   "execution_count": null,
   "id": "11c306cb-c37b-4294-962b-fc9e2de1f69a",
   "metadata": {},
   "outputs": [],
   "source": []
  }
 ],
 "metadata": {
  "kernelspec": {
   "display_name": "Deno",
   "language": "typescript",
   "name": "deno"
  },
  "language_info": {
   "file_extension": ".ts",
   "mimetype": "text/x.typescript",
   "name": "typescript",
   "nb_converter": "script",
   "pygments_lexer": "typescript",
   "version": "5.4.3"
  }
 },
 "nbformat": 4,
 "nbformat_minor": 5
}
